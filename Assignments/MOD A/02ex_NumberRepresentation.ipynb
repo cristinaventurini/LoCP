{
 "cells": [
  {
   "cell_type": "markdown",
   "metadata": {},
   "source": [
    "1\\. Write a function that converts number representation (bin<->dec<->hex)"
   ]
  },
  {
   "cell_type": "code",
   "execution_count": 1,
   "metadata": {},
   "outputs": [
    {
     "name": "stdout",
     "output_type": "stream",
     "text": [
      "Decimal representation: \n",
      " 3\n",
      "Binary representation: \n",
      " 0b11\n",
      "Hexadecimal representation: \n",
      " 0x3\n"
     ]
    }
   ],
   "source": [
    "def con(num): \n",
    "    print(\"Decimal representation: \\n\", num)\n",
    "    print(\"Binary representation: \\n\", bin(num))\n",
    "    print(\"Hexadecimal representation: \\n\", hex(num))\n",
    "con(3)"
   ]
  },
  {
   "cell_type": "markdown",
   "metadata": {},
   "source": [
    "2\\. Write a function that converts a 32 bit word into a single precision floating point (i.e. interprets the various bits as sign, mantissa and exponent)"
   ]
  },
  {
   "cell_type": "code",
   "execution_count": 2,
   "metadata": {},
   "outputs": [
    {
     "name": "stdout",
     "output_type": "stream",
     "text": [
      "01000001101011000111101011100001\n",
      "21.559999465942383\n"
     ]
    }
   ],
   "source": [
    "import struct\n",
    "#01000001101011000111101011100001\n",
    "def con():\n",
    "    f = str(input())\n",
    "    f = int(f, 2)\n",
    "    print(struct.unpack('f', struct.pack('I', f))[0])\n",
    "con()"
   ]
  },
  {
   "cell_type": "markdown",
   "metadata": {},
   "source": [
    "3\\. Write a program to determine the underflow and overflow limits (within a factor of 2) for python on your computer. \n",
    "\n",
    "**Tips**: define two variables inizialized to 1 and halve/double them enough time to exceed the under/over-flow limits  "
   ]
  },
  {
   "cell_type": "code",
   "execution_count": 3,
   "metadata": {},
   "outputs": [
    {
     "name": "stdout",
     "output_type": "stream",
     "text": [
      "1022\n"
     ]
    }
   ],
   "source": [
    "import sys\n",
    "under = 1.0\n",
    "N = 1\n",
    "i = 0 \n",
    "while i < N:\n",
    "    under = under/2\n",
    "    if under == sys.float_info.min: \n",
    "        print(N)\n",
    "        break\n",
    "    elif under != sys.float_info.min:\n",
    "        N += 1\n",
    "        i += 1"
   ]
  },
  {
   "cell_type": "code",
   "execution_count": 4,
   "metadata": {},
   "outputs": [
    {
     "name": "stdout",
     "output_type": "stream",
     "text": [
      "1023\n"
     ]
    }
   ],
   "source": [
    "over = 1.\n",
    "first_over = True\n",
    "N = 1500\n",
    "for i in range(N+1):\n",
    "    over = over*2\n",
    "    if over > sys.float_info.max:\n",
    "        if first_over:\n",
    "            print(i)\n",
    "            first_over = False"
   ]
  },
  {
   "cell_type": "markdown",
   "metadata": {},
   "source": [
    "4\\. Write a program to determine the machine precision\n",
    "\n",
    "**Tips**: define a new variable by adding a smaller and smaller value (proceeding similarly to prob. 2) to an original variable and check the point where the two are the same "
   ]
  },
  {
   "cell_type": "code",
   "execution_count": 5,
   "metadata": {},
   "outputs": [
    {
     "name": "stdout",
     "output_type": "stream",
     "text": [
      "1.1102230246251565e-16\n",
      "53\n"
     ]
    }
   ],
   "source": [
    "def prec(m):\n",
    "    eps = 1.0\n",
    "    k = m + eps\n",
    "    L = 1\n",
    "    i = 0\n",
    "    while i < L:\n",
    "        k = m + eps\n",
    "        if k.hex() != m.hex(): \n",
    "            eps = eps/2\n",
    "            L += 1\n",
    "            i += 1\n",
    "        elif k.hex() == m.hex(): \n",
    "            print(eps)\n",
    "            print(i)\n",
    "            break\n",
    "prec(1.0) "
   ]
  },
  {
   "cell_type": "markdown",
   "metadata": {},
   "source": [
    "5\\. Write a function that takes in input three parameters $a$, $b$ and $c$ and prints out the two solutions to the quadratic equation $ax^2+bx+c=0$ using the standard formula:\n",
    "$$\n",
    "x=\\frac{-b\\pm\\sqrt{b^2-4ac}}{2a}\n",
    "$$\n",
    "\n",
    "(a) use the program to compute the solution for $a=0.001$, $b=1000$ and $c=0.001$\n",
    "\n",
    "(b) re-express the standard solution formula by multiplying top and bottom by $-b\\mp\\sqrt{b^2-4ac}$ and again find the solution for $a=0.001$, $b=1000$ and $c=0.001$. How does it compare with what previously obtained? Why?\n",
    "\n",
    "(c) write a function that compute the roots of a quadratic equation accurately in all cases"
   ]
  },
  {
   "cell_type": "code",
   "execution_count": 6,
   "metadata": {},
   "outputs": [
    {
     "name": "stdout",
     "output_type": "stream",
     "text": [
      "-9.999894245993346e-07 -999999.999999\n",
      "-1000010.5755125057 -1.000000000001e-06\n",
      "-999999.999999 -1.000000000001e-06\n"
     ]
    }
   ],
   "source": [
    "from math import sqrt\n",
    "\n",
    "#a\n",
    "def eq2(a, b, c):\n",
    "    x_1 = (-b+sqrt(b**2-4*a*c))/(2*a)\n",
    "    x_2 = (-b-sqrt(b**2-4*a*c))/(2*a)\n",
    "    print(x_1, x_2)\n",
    "d = 0.001\n",
    "e = 1000\n",
    "f = 0.001\n",
    "eq2(d,e,f)\n",
    "\n",
    "#b\n",
    "def eq21(a, b, c):\n",
    "    x_1 = (2*c)/(-b+sqrt(b**2-4*a*c))\n",
    "    x_2 = (2*c)/(-b-sqrt(b**2-4*a*c))\n",
    "    print(x_1, x_2)\n",
    "eq21(d,e,f)\n",
    "\n",
    "\"\"\"the solution which is inaccurate is the one with '+ discriminant'; this depends on the subtraction that occurs in the\n",
    "quadratic equation. A way to solve this issue is to use the sign function, as to avoid cancellation problems between \n",
    "b and the square root of the discriminant, by ensuring that only numbers of the same sign are added. This results in the \n",
    "following algorithm, which in our case, with sgn(b)=+1 returns:\"\"\"\n",
    "\n",
    "#c\n",
    "def eq22(a, b, c):\n",
    "    x_1 = (-b-sqrt(b**2-4*a*c))/(2*a)\n",
    "    x_2 = (2*c)/(-b-sqrt(b**2-4*a*c))\n",
    "    print(x_1, x_2)\n",
    "eq22(d,e,f)\n",
    "\n"
   ]
  },
  {
   "cell_type": "markdown",
   "metadata": {},
   "source": [
    "6\\. Write a program that implements the function $f(x)=x(x−1)$\n",
    "\n",
    "(a) Calculate the derivative of the function at the point $x = 1$ using the derivative definition:\n",
    "\n",
    "$$\n",
    "\\frac{{\\rm d}f}{{\\rm d}x} = \\lim_{\\delta\\to0} \\frac{f(x+\\delta)-f(x)}{\\delta}\n",
    "$$\n",
    "\n",
    "with $\\delta = 10^{−2}$. Calculate the true value of the same derivative analytically and compare with the answer your program gives. The two will not agree perfectly. Why not?\n",
    "\n",
    "(b) Repeat the calculation for $\\delta = 10^{−4}, 10^{−6}, 10^{−8}, 10^{−10}, 10^{−12}$ and $10^{−14}$. How does the accuracy scales with $\\delta$?"
   ]
  },
  {
   "cell_type": "code",
   "execution_count": 7,
   "metadata": {},
   "outputs": [
    {
     "name": "stdout",
     "output_type": "stream",
     "text": [
      "[1.010000000000001, 1.0009999999998895, 1.0000999999998899, 1.0000100000065513, 1.0000009999177333, 1.0000001005838672, 1.0000000039225287, 1.000000083740371, 1.000000082840371, 1.000000082750371, 1.0000889005833413, 0.9992007221627407, 0.9992007221626509, 1.1102230246251577, 0.0]\n"
     ]
    },
    {
     "data": {
      "image/png": "[encoded data removed]",
      "text/plain": [
       "<Figure size 432x288 with 1 Axes>"
      ]
     },
     "metadata": {
      "needs_background": "light"
     },
     "output_type": "display_data"
    }
   ],
   "source": [
    "import matplotlib.pyplot as plt\n",
    "\n",
    "de = [10**(-i) for i in range(2,17)]\n",
    "exp = [-i for i in range(2,17)]\n",
    "def der(x, d):\n",
    "    def fu(x): \n",
    "        return x*(x-1)\n",
    "    for i in range(len(d)):\n",
    "        de[i] = (fu(x + d[i])-fu(x))/d[i]\n",
    "    print(de)\n",
    "\n",
    "der(1, de)\n",
    "plt.plot(exp, de, \"ro\")\n",
    "plt.show()\n",
    "\n",
    "#The two values don't agree perfectly because we are summing two numbers which the program reads as the same number. \n",
    "#In order for the program to exactly read the increment and distinguish the two numbers we should write them in\n",
    "#hexadecimal representation."
   ]
  },
  {
   "cell_type": "markdown",
   "metadata": {},
   "source": [
    "7\\. Consider the integral of the semicircle of radius 1:\n",
    "$$\n",
    "I=\\int_{-1}^{1} \\sqrt(1-x^2) {\\rm d}x\n",
    "$$\n",
    "which it's known to be $I=\\frac{\\pi}{2}=1.57079632679...$.\n",
    "Alternatively we can use the Riemann definition of the integral:\n",
    "$$\n",
    "I=\\lim_{N\\to\\infty} \\sum_{k=1}^{N} h y_k \n",
    "$$\n",
    "\n",
    "with $h=2/N$ the width of each of the $N$ slices the domain is divided into and where\n",
    "$y_k$ is the value of the function at the $k-$th slice.\n",
    "\n",
    "(a) Write a programe to compute the integral with $N=100$. How does the result compares to the true value?\n",
    "\n",
    "(b) How much can $N$ be increased if the computation needs to be run in less than a second? What is the gain in running it for 1 minute? \n"
   ]
  },
  {
   "cell_type": "code",
   "execution_count": 12,
   "metadata": {},
   "outputs": [
    {
     "name": "stdout",
     "output_type": "stream",
     "text": [
      "1.5691342555492505\n",
      "1.149178e-04 s\n",
      "2.722065e+00 s\n",
      "2.347141e+02 s\n",
      "1.5707963267958165\n"
     ]
    }
   ],
   "source": [
    "from math import sqrt\n",
    "import time\n",
    "#a\n",
    "def intgr(n):\n",
    "    h = 2/n\n",
    "    i = 1\n",
    "    def f(x): \n",
    "        return sqrt(1 - x**2)\n",
    "    inss = 0.5 * h * (f(-1) + f(1))\n",
    "    while i < n:\n",
    "        inss += h*f(-1+i*h)\n",
    "        i += 1\n",
    "    return inss\n",
    "print(intgr(100))\n",
    "\n",
    "#the result is inferior to the true value\n",
    "\n",
    "#b\n",
    "time_start = time.time()\n",
    "intgr(100)\n",
    "time_stop = time.time()\n",
    "print(\"{:e} s\".format(time_stop-time_start))\n",
    "\n",
    "# around a second in computing time if N is around 3.5/4 millions\n",
    "time_start = time.time()\n",
    "intgr(3800000)\n",
    "time_stop = time.time()\n",
    "print(\"{:e} s\".format(time_stop-time_start))\n",
    "\n",
    "time_start = time.time()\n",
    "intgr(500000000)\n",
    "time_stop = time.time()\n",
    "print(\"{:e} s\".format(time_stop-time_start))\n",
    "print(intgr(500000000))\n",
    "# by running it for 3 minutes you obtain a result which is the same as the pi declared in the text of the exercise."
   ]
  }
 ],
 "metadata": {
  "kernelspec": {
   "display_name": "Python 3",
   "language": "python",
   "name": "python3"
  },
  "language_info": {
   "codemirror_mode": {
    "name": "ipython",
    "version": 3
   },
   "file_extension": ".py",
   "mimetype": "text/x-python",
   "name": "python",
   "nbconvert_exporter": "python",
   "pygments_lexer": "ipython3",
   "version": "3.8.3"
  }
 },
 "nbformat": 4,
 "nbformat_minor": 2
}
