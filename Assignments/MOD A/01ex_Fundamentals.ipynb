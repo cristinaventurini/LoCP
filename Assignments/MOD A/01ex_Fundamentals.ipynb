{
 "cells": [
  {
   "cell_type": "markdown",
   "metadata": {},
   "source": [
    "1\\. Write the following as a list comprehension"
   ]
  },
  {
   "cell_type": "code",
   "execution_count": 1,
   "metadata": {},
   "outputs": [
    {
     "name": "stdout",
     "output_type": "stream",
     "text": [
      "[(0, 0), (0, 1), (0, 2), (0, 3), (1, 0), (1, 1), (1, 2), (1, 3), (2, 0), (2, 1), (2, 2), (2, 3)]\n",
      "[0, 4, 16]\n"
     ]
    }
   ],
   "source": [
    "# 1\n",
    "ans = []\n",
    "for i in range(3):\n",
    "    for j in range(4):\n",
    "        ans.append((i, j))\n",
    "print (ans)\n",
    "\n",
    "# 2\n",
    "ans = map(lambda x: x*x, filter(lambda x: x%2 == 0, range(5)))\n",
    "print (list(ans))\n",
    "\n"
   ]
  },
  {
   "cell_type": "code",
   "execution_count": 9,
   "metadata": {},
   "outputs": [
    {
     "name": "stdout",
     "output_type": "stream",
     "text": [
      "[(0, 0), (0, 1), (0, 2), (0, 3), (1, 0), (1, 1), (1, 2), (1, 3), (2, 0), (2, 1), (2, 2), (2, 3)]\n",
      "[0, 4, 16]\n"
     ]
    }
   ],
   "source": [
    "#1\n",
    "ans = [(i,j) for i in range(3) for j in range(4)]\n",
    "print(ans)\n",
    "\n",
    "#2\n",
    "ans1 =[i for i in map(lambda x: x*x, filter(lambda x: x%2 == 0, range(5)))]\n",
    "print(ans1)"
   ]
  },
  {
   "cell_type": "markdown",
   "metadata": {},
   "source": [
    "2\\. Convert the following function into a pure function with no global variables or side effects"
   ]
  },
  {
   "cell_type": "code",
   "execution_count": 10,
   "metadata": {},
   "outputs": [
    {
     "name": "stdout",
     "output_type": "stream",
     "text": [
      "[1, 2, 3, 0, 1, 2, 3, 4]\n",
      "[1, 2, 3, 0, 1, 2, 3, 4]\n"
     ]
    }
   ],
   "source": [
    "x = 5\n",
    "def f(alist):\n",
    "    for i in range(x):\n",
    "         alist.append(i)\n",
    "    return alist\n",
    "\n",
    "alist = [1,2,3]\n",
    "ans = f(alist)\n",
    "print (ans)\n",
    "print (alist) # alist has been changed!"
   ]
  },
  {
   "cell_type": "code",
   "execution_count": 21,
   "metadata": {},
   "outputs": [
    {
     "name": "stdout",
     "output_type": "stream",
     "text": [
      "[1, 2, 3, 0, 1, 2, 3, 4]\n",
      "[1, 2, 3]\n"
     ]
    }
   ],
   "source": [
    "x = 5\n",
    "def f(a):\n",
    "    new_alist = []\n",
    "    for i in range(x):\n",
    "         new_alist.append(i)\n",
    "    lis = alist + new_alist\n",
    "    return lis\n",
    "\n",
    "alist = [1,2,3]\n",
    "ans = f(alist)\n",
    "print (ans)\n",
    "print (alist)"
   ]
  },
  {
   "cell_type": "markdown",
   "metadata": {},
   "source": [
    "3\\. Write a `decorator` hello that makes every wrapped function print “Hello!”, i.e. something like:\n",
    "\n",
    "```python\n",
    "@hello\n",
    "def square(x):\n",
    "    return x*x\n",
    "```\n",
    "\n"
   ]
  },
  {
   "cell_type": "code",
   "execution_count": 7,
   "metadata": {},
   "outputs": [
    {
     "name": "stdout",
     "output_type": "stream",
     "text": [
      "Hello!\n",
      "9\n"
     ]
    }
   ],
   "source": [
    "def my_decorator(func):\n",
    "    def wrapper(arg1):\n",
    "        print(\"Hello!\")\n",
    "        func(arg1)\n",
    "    return wrapper\n",
    "\n",
    "@my_decorator\n",
    "def square(x):\n",
    "    print(x*x)\n",
    "\n",
    "square(3)\n"
   ]
  },
  {
   "cell_type": "markdown",
   "metadata": {},
   "source": [
    "4\\. Write the factorial function so that it a) does and b) does not use recursion."
   ]
  },
  {
   "cell_type": "code",
   "execution_count": 21,
   "metadata": {},
   "outputs": [
    {
     "name": "stdout",
     "output_type": "stream",
     "text": [
      "24\n"
     ]
    }
   ],
   "source": [
    "#recursion \n",
    "def fac1(n):\n",
    "    if n < 2: \n",
    "        return 1\n",
    "    else:\n",
    "        return n * fac1(n-1)\n",
    "\n",
    "fac1(4)\n",
    "print(fac1(4))"
   ]
  },
  {
   "cell_type": "code",
   "execution_count": 20,
   "metadata": {
    "scrolled": true
   },
   "outputs": [
    {
     "name": "stdout",
     "output_type": "stream",
     "text": [
      "24\n"
     ]
    }
   ],
   "source": [
    "#no recursion \n",
    "def fac2(n):\n",
    "    if n == 0: \n",
    "        return 1\n",
    "    else: \n",
    "        s = 1\n",
    "        for i in range(2, n+1):\n",
    "            s *= i\n",
    "    return s        \n",
    "\n",
    "fac2(4)\n",
    "print(fac2(4))"
   ]
  },
  {
   "cell_type": "markdown",
   "metadata": {},
   "source": [
    "5\\. Use HOFs (zip in particular) to compute the weight of a circle, a disk and a sphere, assuming different radii and different densities:\n",
    "\n",
    "```python\n",
    "densities = {\"Al\":[0.5,1,2],\"Fe\":[3,4,5],\"Pb\": [15,20,30]}\n",
    "radii = [1,2,3]\n",
    "```\n",
    "\n",
    "where the entries of the dictionary's values are the linear, superficial and volumetric densities of the materials respectively.\n",
    "\n",
    "In particular define a list of three lambda functions using a comprehension that computes the circumference, the area and the volume for a given radius.\n"
   ]
  },
  {
   "cell_type": "code",
   "execution_count": 21,
   "metadata": {},
   "outputs": [
    {
     "name": "stdout",
     "output_type": "stream",
     "text": [
      "Al [[3.14, 3.14, 8.38], [6.28, 12.57, 67.02], [9.42, 28.27, 226.19]]\n",
      "Fe [[18.85, 12.57, 20.94], [37.7, 50.27, 167.55], [56.55, 113.1, 565.49]]\n",
      "Pb [[94.25, 62.83, 125.66], [188.5, 251.33, 1005.31], [282.74, 565.49, 3392.92]]\n"
     ]
    }
   ],
   "source": [
    "from collections import defaultdict\n",
    "from math import pi\n",
    "densities = {\"Al\":[0.5,1,2],\"Fe\":[3,4,5],\"Pb\": [15,20,30]}\n",
    "radii = [1,2,3]\n",
    "cav = [((lambda r: 2*pi*r)(r), (lambda r: pi*r**2)(r), (lambda r: (4/3)*pi*r**3)(r)) for r in radii]\n",
    "we = defaultdict(list)\n",
    "def weight(list1, list2):\n",
    "    for x in list1:\n",
    "        for i in range(len(list2)):\n",
    "            lis = [round(a*b, 2) for a,b in zip(list2[i], list1[x])]\n",
    "            we[x].append(lis)\n",
    "weight(densities, cav)\n",
    "for x in we: print(x, we[x])"
   ]
  },
  {
   "cell_type": "markdown",
   "metadata": {},
   "source": [
    "6\\. Edit the class defintion to add an instance attribute of is_hungry = True to the Dog class. Then add a method called eat() which changes the value of is_hungry to False when called. Figure out the best way to feed each dog and then output “My dogs are hungry.” if all are hungry or “My dogs are not hungry.” if all are not hungry. The final output should look like this:\n",
    "\n",
    "`I have 3 dogs. \n",
    "Tom is 6. \n",
    "Fletcher is 7. \n",
    "Larry is 9. \n",
    "And they're all mammals, of course. \n",
    "My dogs are not hungry.\n",
    "`\n",
    "\n",
    "```python\n",
    "# Parent class\n",
    "class Dog:\n",
    "\n",
    "    # Class attribute\n",
    "    species = 'mammal'\n",
    "\n",
    "    # Initializer / Instance attributes\n",
    "    def __init__(self, name, age):\n",
    "        self.name = name\n",
    "        self.age = age\n",
    "\n",
    "    # instance method\n",
    "    def description(self):\n",
    "        return \"{} is {} years old\".format(self.name, self.age)\n",
    "\n",
    "    # instance method\n",
    "    def speak(self, sound):\n",
    "        return \"{} says {}\".format(self.name, sound)\n",
    "\n",
    "# Child class (inherits from Dog class)\n",
    "class RussellTerrier(Dog):\n",
    "    def run(self, speed):\n",
    "        return \"{} runs {}\".format(self.name, speed)\n",
    "\n",
    "# Child class (inherits from Dog class)\n",
    "class Bulldog(Dog):\n",
    "    def run(self, speed):\n",
    "        return \"{} runs {}\".format(self.name, speed)\n",
    "```"
   ]
  },
  {
   "cell_type": "code",
   "execution_count": 15,
   "metadata": {},
   "outputs": [
    {
     "name": "stdout",
     "output_type": "stream",
     "text": [
      "I have 3 dogs. \n",
      "Tom is 6 years old.\n",
      "Fletcher is 7 years old.\n",
      "Larry is 9 years old.\n",
      "And they are all mammal , of course. \n",
      "\n",
      "Is Tom hungry?\n",
      "Tom is hungry.\n",
      "Feed Tom; is it still hungry?\n",
      "Tom is not hungry.\n",
      "\n",
      "Is Fletcher hungry?\n",
      "Fletcher is not hungry.\n",
      "\n",
      "Is Larry hungry?\n",
      "Larry is not hungry.\n",
      "\n",
      "My dogs are not hungry\n"
     ]
    }
   ],
   "source": [
    "from random import randrange\n",
    "\n",
    "# Parent class\n",
    "class Dog:\n",
    "\n",
    "    # Class attribute\n",
    "    species = 'mammal'\n",
    "    \n",
    "    # Initializer / Instance attributes\n",
    "    def __init__(self, name, age):\n",
    "        self.name = name\n",
    "        self.age = age\n",
    "        self.is_hungry = True\n",
    "        self.hunger_dec = 4\n",
    "        self.hunger_limit = 8\n",
    "        self.hunger = randrange(self.hunger_limit)\n",
    "        \n",
    "    def clock(self):\n",
    "        self.hunger += 1\n",
    "        \n",
    "    def eat(self):\n",
    "        self.is_hungry = not self.is_hungry\n",
    "        if self.hunger <= self.hunger_limit:\n",
    "            print(\"{} is not hungry.\".format(self.name))\n",
    "        elif self.hunger > self.hunger_limit:\n",
    "            print(\"{} is hungry.\".format(self.name))    \n",
    "            \n",
    "    def reduce_hunger(self):\n",
    "            self.hunger = max(0, self.hunger - self.hunger_dec)\n",
    "            \n",
    "    def feed(self):\n",
    "        self.reduce_hunger()\n",
    "\n",
    "    # instance method\n",
    "    def description(self):\n",
    "        print(\"{} is {} years old.\".format(self.name, self.age))\n",
    "\n",
    "Tom = Dog(\"Tom\",6)\n",
    "Fletcher = Dog(\"Fletcher\",7)\n",
    "Larry = Dog(\"Larry\",9)\n",
    "mydogs = [Tom, Fletcher, Larry]\n",
    "\n",
    "print(\"I have\", len(mydogs), \"dogs. \")\n",
    "Tom.description()\n",
    "Fletcher.description()\n",
    "Larry.description()\n",
    "print(\"And they are all\", Dog.species, \", of course. \\n\")\n",
    "\n",
    "for Dog in mydogs:\n",
    "    for _ in range(3):\n",
    "        Dog.clock()\n",
    "    print(\"Is {} hungry?\".format(Dog.name))\n",
    "    Dog.eat()\n",
    "    if Dog.hunger > Dog.hunger_limit:\n",
    "        print(\"Feed {}; is it still hungry?\".format(Dog.name))\n",
    "        Dog.feed()\n",
    "        Dog.eat()\n",
    "    print()\n",
    "\n",
    "if all(Dog.hunger < Dog.hunger_limit for Dog in mydogs):\n",
    "    print(\"My dogs are not hungry\")\n",
    "    \n",
    "#run multiple times"
   ]
  },
  {
   "cell_type": "code",
   "execution_count": null,
   "metadata": {},
   "outputs": [],
   "source": []
  }
 ],
 "metadata": {
  "kernelspec": {
   "display_name": "Python 3",
   "language": "python",
   "name": "python3"
  },
  "language_info": {
   "codemirror_mode": {
    "name": "ipython",
    "version": 3
   },
   "file_extension": ".py",
   "mimetype": "text/x-python",
   "name": "python",
   "nbconvert_exporter": "python",
   "pygments_lexer": "ipython3",
   "version": "3.8.3"
  }
 },
 "nbformat": 4,
 "nbformat_minor": 2
}
